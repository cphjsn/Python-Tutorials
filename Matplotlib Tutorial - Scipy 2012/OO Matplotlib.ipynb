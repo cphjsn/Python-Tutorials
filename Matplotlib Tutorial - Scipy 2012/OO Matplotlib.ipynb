{
 "metadata": {
  "name": "OO Matplotlib"
 },
 "nbformat": 3,
 "nbformat_minor": 0,
 "worksheets": [
  {
   "cells": [
    {
     "cell_type": "heading",
     "level": 1,
     "metadata": {},
     "source": [
      "OO Matplotlib"
     ]
    },
    {
     "cell_type": "code",
     "collapsed": true,
     "input": [
      "# Basic Imports\n",
      "import numpy as np\n",
      "import matplotlib.pyplot as plt\n",
      "\n",
      "# Create data we use later\n",
      "x = np.random.randn(500)\n",
      "y = np.random.randn(500)"
     ],
     "language": "python",
     "metadata": {},
     "outputs": []
    },
    {
     "cell_type": "heading",
     "level": 2,
     "metadata": {},
     "source": [
      "PyLab"
     ]
    },
    {
     "cell_type": "code",
     "collapsed": false,
     "input": [
      "# Make a scatter plot\n",
      "plt.scatter(x, y)\n",
      "plt.xlim(-2, 2)\n",
      "plt.ylim(-2, 2)\n",
      "plt.title('Gaussian Data')\n",
      "plt.show()"
     ],
     "language": "python",
     "metadata": {},
     "outputs": []
    },
    {
     "cell_type": "markdown",
     "metadata": {},
     "source": [
      "* PyLab interface handles all the magic of figure creation\n",
      "* Provides a stateful interface that tracks the current:\n",
      "    - Axes (plot area)\n",
      "    - Figure (plot window)\n",
      "* These are like global variables--it makes it difficult to work with more than one at at time\n",
      "* Provides an interface that mimicks that of MatLab"
     ]
    },
    {
     "cell_type": "heading",
     "level": 2,
     "metadata": {},
     "source": [
      "OO Matplotlib"
     ]
    },
    {
     "cell_type": "code",
     "collapsed": false,
     "input": [
      "# Necessary imports for figure creation\n",
      "from matplotlib.backends.backend_qt4agg import new_figure_manager, show\n",
      "\n",
      "# Make another scatter plot\n",
      "fig = new_figure_manager(1).canvas.figure\n",
      "ax = fig.add_subplot(1, 1, 1) # Could also create manually sized Axes object\n",
      "ax.scatter(x, y)\n",
      "ax.set_xlim(-2, 2)\n",
      "ax.set_ylim(-2, 2)\n",
      "ax.set_title('Gaussian Data')\n",
      "show()"
     ],
     "language": "python",
     "metadata": {},
     "outputs": []
    },
    {
     "cell_type": "markdown",
     "metadata": {},
     "source": [
      "* More object-oriented\n",
      "    - Makes the code read more like any other Python code\n",
      "    - Objects explicitly referenced so no tracking what's \"current\"\n",
      "* End up with backend specific code\n",
      "* Often, a hybrid approach is used"
     ]
    },
    {
     "cell_type": "code",
     "collapsed": false,
     "input": [
      "# Make another scatter plot\n",
      "fig = plt.figure()\n",
      "ax = fig.add_subplot(1, 1, 1) # Could also create manually sized Axes object\n",
      "ax.scatter(x, y)\n",
      "ax.set_xlim(-2, 2)\n",
      "ax.set_ylim(-2, 2)\n",
      "ax.set_title('Gaussian Data')\n",
      "plt.show()"
     ],
     "language": "python",
     "metadata": {},
     "outputs": []
    },
    {
     "cell_type": "heading",
     "level": 2,
     "metadata": {},
     "source": [
      "EXERCISE:"
     ]
    },
    {
     "cell_type": "markdown",
     "metadata": {},
     "source": [
      "Make a step plot of the following data without using any calls to pyplot. You'll need to:\n",
      "\n",
      "* Create a new figure with new_figure_manager\n",
      "* Use the figure to make an Axes\n",
      "* Use the Axes to create a step() plot"
     ]
    },
    {
     "cell_type": "code",
     "collapsed": false,
     "input": [
      "t = np.linspace(0, 10, 300)\n",
      "x = np.sin(2 * pi * 0.1 * t**2)\n",
      "\n",
      "# Add your code here"
     ],
     "language": "python",
     "metadata": {},
     "outputs": []
    },
    {
     "cell_type": "heading",
     "level": 1,
     "metadata": {},
     "source": [
      "Even More Objects"
     ]
    },
    {
     "cell_type": "markdown",
     "metadata": {},
     "source": [
      "Every plot method encapsulates several steps:\n",
      "\n",
      "* Creating 1 or more Artists which draw on the Axes\n",
      "* Setting up transforms, which control where the Artist is drawn\n",
      "* Handling missing data\n",
      "* Updating Axes attributes"
     ]
    },
    {
     "cell_type": "markdown",
     "metadata": {},
     "source": [
      "Let's make a line plot by hand..."
     ]
    },
    {
     "cell_type": "code",
     "collapsed": false,
     "input": [
      "from matplotlib.lines import Line2D\n",
      "fig = plt.figure()\n",
      "ax = fig.add_subplot(1, 1, 1)\n",
      "line = Line2D(x,y)\n",
      "ax.add_artist(line)\n",
      "plt.show()"
     ],
     "language": "python",
     "metadata": {},
     "outputs": []
    },
    {
     "cell_type": "markdown",
     "metadata": {},
     "source": [
      "Looks good, but limits are off. We should be able to fix by telling the axes to autoscale_view(). Let's also set the color just to see property modification in action."
     ]
    },
    {
     "cell_type": "code",
     "collapsed": false,
     "input": [
      "ax.autoscale_view()\n",
      "line.set_color('red')\n",
      "plt.draw()"
     ],
     "language": "python",
     "metadata": {},
     "outputs": []
    },
    {
     "cell_type": "markdown",
     "metadata": {},
     "source": [
      "Well that's weird, the view is still off. What happened is that we added the line as a generic Artist. Autoscaling only considers two sources for data limits: lines and patches. Let's try using add_line()..."
     ]
    },
    {
     "cell_type": "code",
     "collapsed": false,
     "input": [
      "line = Line2D(x,y)\n",
      "fig = plt.figure()\n",
      "ax = fig.add_subplot(1, 1, 1)\n",
      "ax.add_line(line)\n",
      "plt.show()"
     ],
     "language": "python",
     "metadata": {},
     "outputs": []
    },
    {
     "cell_type": "markdown",
     "metadata": {},
     "source": [
      "So far so good..."
     ]
    },
    {
     "cell_type": "code",
     "collapsed": false,
     "input": [
      "ax.autoscale_view()\n",
      "line.set_color('green')\n",
      "line.set_linestyle('dashed')\n",
      "plt.draw()"
     ],
     "language": "python",
     "metadata": {},
     "outputs": []
    },
    {
     "cell_type": "markdown",
     "metadata": {},
     "source": [
      "There we go, and for good measure we go ahead and set the linestyle. Axes have the following methods for adding various artist types:\n",
      "\n",
      "* add_artist()\n",
      "* add_line()\n",
      "* add_collection()\n",
      "* add_patch()"
     ]
    },
    {
     "cell_type": "code",
     "collapsed": false,
     "input": [
      "from matplotlib.collections import CircleCollection\n",
      "fig = plt.figure()\n",
      "ax = fig.add_subplot(1, 1, 1)\n",
      "sizes = np.empty_like(x)\n",
      "sizes.fill(20)\n",
      "coll = CircleCollection(sizes, offsets=(x,y), transOffset=ax.transData, edgecolor='red', facecolor='cyan')\n",
      "ax.add_collection(coll)\n",
      "ax.autoscale_view()\n",
      "plt.draw()"
     ],
     "language": "python",
     "metadata": {},
     "outputs": []
    },
    {
     "cell_type": "markdown",
     "metadata": {},
     "source": [
      "Let's add a couple of \"useful\" patches to this."
     ]
    },
    {
     "cell_type": "code",
     "collapsed": false,
     "input": [
      "from matplotlib.patches import Circle, Rectangle\n",
      "circ = Circle((0,0), radius=1.0, color='black', alpha=0.7, facecolor='light blue')\n",
      "ax.add_patch(circ)\n",
      "\n",
      "rect = Rectangle((-1.5, 1.5), width=0.75, height=0.75, alpha=0.8, facecolor='purple')\n",
      "ax.add_patch(rect)\n",
      "plt.draw()"
     ],
     "language": "python",
     "metadata": {},
     "outputs": []
    },
    {
     "cell_type": "heading",
     "level": 2,
     "metadata": {},
     "source": [
      "EXERCISE:"
     ]
    },
    {
     "cell_type": "markdown",
     "metadata": {},
     "source": [
      "Make a plot without using any plot methods. Any will do, just be sure not to use plotting methods like plot() and scatter() but instead create artists by hand. If you have one you like, go for it, just try to use multiple types of Artist. If nothing springs to mind, try:\n",
      "\n",
      "* Line plot\n",
      "* 2 Ellipses marking regions of \"interest\" on the curve\n",
      "\n",
      "Some possible Artists:\n",
      "\n",
      "* Patches: Rectangle, Circle, Ellipse, Arc, Arrow, Polygon\n",
      "* Line2D\n",
      "* Collections: LineCollection, CircleCollection, PolyCollection\n",
      "\n",
      "You can use any data you like, or just use the following as a starting point:"
     ]
    },
    {
     "cell_type": "code",
     "collapsed": false,
     "input": [
      "om = 0.2\n",
      "t = np.linspace(0, 10, 300)\n",
      "x = np.cos(2 * np.pi * om * t) * np.sin(2 * np.pi * (3 * om) * t)\n",
      "\n",
      "# Add your code here"
     ],
     "language": "python",
     "metadata": {},
     "outputs": []
    },
    {
     "cell_type": "heading",
     "level": 1,
     "metadata": {},
     "source": [
      "Wrap Up"
     ]
    },
    {
     "cell_type": "markdown",
     "metadata": {},
     "source": [
      "Why would we ever want to know this? Possible reasons:\n",
      "\n",
      "* Impress your friends\n",
      "*  ...\n",
      "* Profit!"
     ]
    },
    {
     "cell_type": "markdown",
     "metadata": {},
     "source": [
      "No, really:\n",
      "\n",
      "* Good for simple annotations\n",
      "* Custom plot elements\n",
      "* Forms the basis for creating entire custom plots\n",
      "\n",
      "Also it can be useful to understand the guts of what goes into a plot so that we can work with the objects returned from plots, or if we need to mimic some of the Axes' operation ourselves."
     ]
    },
    {
     "cell_type": "code",
     "collapsed": false,
     "input": [
      "plt.plot(x,y)"
     ],
     "language": "python",
     "metadata": {},
     "outputs": []
    },
    {
     "cell_type": "code",
     "collapsed": false,
     "input": [
      "plt.scatter(x,y)"
     ],
     "language": "python",
     "metadata": {},
     "outputs": []
    }
   ],
   "metadata": {}
  }
 ]
}