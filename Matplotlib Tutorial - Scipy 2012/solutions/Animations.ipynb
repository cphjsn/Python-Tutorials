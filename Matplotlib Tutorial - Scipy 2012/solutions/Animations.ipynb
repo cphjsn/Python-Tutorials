{
 "metadata": {
  "name": "Animations"
 },
 "nbformat": 3,
 "nbformat_minor": 0,
 "worksheets": [
  {
   "cells": [
    {
     "cell_type": "code",
     "collapsed": false,
     "input": [
      "import matplotlib.pyplot as plt"
     ],
     "language": "python",
     "metadata": {},
     "outputs": []
    },
    {
     "cell_type": "heading",
     "level": 1,
     "metadata": {},
     "source": [
      "Timers"
     ]
    },
    {
     "cell_type": "markdown",
     "metadata": {},
     "source": [
      "Matplotlib backends feature a generic timer object that abstracts away the backend-specific timer objects. Using a timer object allows firing events at a given interval *within* the backend's event loop. The code below uses a timer object to update the time set in the title of the plot."
     ]
    },
    {
     "cell_type": "code",
     "collapsed": false,
     "input": [
      "from datetime import datetime\n",
      "fig = plt.figure()\n",
      "ax = fig.add_subplot(1, 1, 1)\n",
      "\n",
      "def updateTime(axes):\n",
      "    axes.set_title(datetime.now())\n",
      "    axes.figure.canvas.draw()\n",
      "\n",
      "timer = fig.canvas.new_timer(interval=100) # This should be enough\n",
      "timer.add_callback(updateTime, ax)\n",
      "timer.interval = 100 # Work around bug in QT timer\n",
      "\n",
      "# Make sure the timer gets stopped when the figure is closed\n",
      "# since we're holding onto a reference\n",
      "ax.figure.canvas.mpl_connect('close_event', lambda *a: timer.stop())\n",
      "\n",
      "timer.start()"
     ],
     "language": "python",
     "metadata": {},
     "outputs": []
    },
    {
     "cell_type": "markdown",
     "metadata": {},
     "source": [
      "Now we can use a timer to modify the data for a plot object, producing an animation. This is the simplest method, but effective. In this case, we're just changing the points set on a parabola."
     ]
    },
    {
     "cell_type": "code",
     "collapsed": false,
     "input": [
      "# Make a basic line plot of a parabola\n",
      "fig = plt.figure()\n",
      "ax = fig.add_subplot(1, 1, 1)\n",
      "x = np.linspace(0, 20)\n",
      "y = 0.5 * x * x\n",
      "line, = ax.plot(x, y)\n",
      "\n",
      "# Callback to take a line and update the data on it\n",
      "def updateLine(line, x, y):\n",
      "    line.set_data(x[:updateLine.i], y[:updateLine.i])\n",
      "    line.figure.canvas.draw() # Make the figure redraw\n",
      "    updateLine.i = (updateLine.i + 1) % x.size\n",
      "# Store the current index as an attribute on the function\n",
      "updateLine.i = 0\n",
      "\n",
      "# Make a new timer and add the callback\n",
      "timer = fig.canvas.new_timer(interval=100)\n",
      "timer.add_callback(updateLine, line, x, y)\n",
      "ax.figure.canvas.mpl_connect('close_event', lambda *a: timer.stop())\n",
      "timer.start()"
     ],
     "language": "python",
     "metadata": {},
     "outputs": []
    },
    {
     "cell_type": "markdown",
     "metadata": {},
     "source": [
      "This is the same example as before, but uses a class to store state instead of passing parameters to the callback and using a function attribute."
     ]
    },
    {
     "cell_type": "code",
     "collapsed": false,
     "input": [
      "fig = plt.figure()\n",
      "ax = fig.add_subplot(1, 1, 1)\n",
      "x = np.linspace(0, 20)\n",
      "y = 0.5 * x * x\n",
      "line, = ax.plot(x, y)\n",
      "\n",
      "# The class only takes a line object as a parameter. All\n",
      "# of the needed information is obtained from the object itself.\n",
      "class updatingLine(object):\n",
      "    def __init__(self, line):\n",
      "        self._line = line\n",
      "        self._xdata = line.get_xdata()\n",
      "        self._ydata = line.get_ydata()\n",
      "        self.counter = 0\n",
      "        self.canvas = line.figure.canvas\n",
      "\n",
      "    def __call__(self):\n",
      "        self._line.set_data(self._xdata[:self.counter],\n",
      "            self._ydata[:self.counter])\n",
      "        self.canvas.draw()\n",
      "        self.counter = (self.counter + 1) % self._xdata.size\n",
      "\n",
      "timer = fig.canvas.new_timer(interval=100)\n",
      "timer.add_callback(updatingLine(line))\n",
      "ax.figure.canvas.mpl_connect('close_event', lambda *a: timer.stop())\n",
      "timer.start()"
     ],
     "language": "python",
     "metadata": {},
     "outputs": []
    },
    {
     "cell_type": "heading",
     "level": 2,
     "metadata": {},
     "source": [
      "Exercise:"
     ]
    },
    {
     "cell_type": "markdown",
     "metadata": {},
     "source": [
      "Make an animation of the following data and plot. You should:\n",
      "\n",
      "* Create a callback function that modifies the line objects' data\n",
      "* Create a new timer and add the callback to it\n",
      "* If running interactively, don't forget to use mpl_connect() to connect to the figure canvas's 'close_event' to make sure the timer is stopped when the figure is closed"
     ]
    },
    {
     "cell_type": "code",
     "collapsed": false,
     "input": [
      "# This creates a plot of a decaying sine/cosine wave\n",
      "t = np.linspace(0, 10, 500)\n",
      "x1 = np.exp(-0.5 * t) * np.sin(2 * np.pi * t)\n",
      "x2 = np.exp(-0.5 * t) * np.cos(2 * np.pi * t)\n",
      "fig = plt.figure()\n",
      "ax = fig.add_subplot(1, 1, 1)\n",
      "line1,line2 = plt.plot(t, x1, t, x2)\n",
      "\n",
      "# Add your code here"
     ],
     "language": "python",
     "metadata": {},
     "outputs": []
    },
    {
     "cell_type": "heading",
     "level": 2,
     "metadata": {},
     "source": [
      "Solution:"
     ]
    },
    {
     "cell_type": "code",
     "collapsed": false,
     "input": [
      "def update_line(line, t, x):\n",
      "    line.set_data(t[:update_line.i], x[:update_line.i])\n",
      "    line.figure.canvas.draw()\n",
      "    update_line.i = (update_line.i + 5) % t.size\n",
      "update_line.i = 0\n",
      "\n",
      "timer = fig.canvas.new_timer(interval=1000)\n",
      "timer.add_callback(update_line, line1, t, x1)\n",
      "timer.add_callback(update_line, line2, t, x2)\n",
      "ax.figure.canvas.mpl_connect('close_event', lambda *a: timer.stop()) \n",
      "timer.start()"
     ],
     "language": "python",
     "metadata": {},
     "outputs": []
    },
    {
     "cell_type": "heading",
     "level": 1,
     "metadata": {},
     "source": [
      "Animation Classes"
     ]
    },
    {
     "cell_type": "markdown",
     "metadata": {},
     "source": [
      "In addition to animation uses, the timer events can serve other useful purposes since they provide a way to trigger updates within the Figure's event loop. For instance, a timer could be used to check for a file and update the plot with any new data."
     ]
    },
    {
     "cell_type": "markdown",
     "metadata": {},
     "source": [
      "* Animation classes make use of Timer to simplify the process of creating animations\n",
      "  - Simplify taking care of repeating, repeat delay, frame interval\n",
      "  - Allow for saving animations to movie files (ffmpeg, mencoder)\n",
      "  - Can support bltting...in some cases\n",
      "  - ArtistAnimation and FuncAnimation"
     ]
    },
    {
     "cell_type": "markdown",
     "metadata": {},
     "source": [
      "Here's a basic example that plots a series of Images using ArtistAnimation. ArtistAnimation takes a list of artists to show for each frame. It's simple, but inefficient to create separate artists instead of resetting the data for an artist."
     ]
    },
    {
     "cell_type": "code",
     "collapsed": false,
     "input": [
      "# Import the two main animation classes\n",
      "from matplotlib.animation import ArtistAnimation, FuncAnimation"
     ],
     "language": "python",
     "metadata": {},
     "outputs": []
    },
    {
     "cell_type": "code",
     "collapsed": false,
     "input": [
      "# Create an empty figure\n",
      "fig = plt.figure()\n",
      "ax = fig.add_subplot(1, 1, 1)\n",
      "ims = [] # list for storing all of the created artists\n",
      "\n",
      "# Generate a bunch of images with random data\n",
      "for i in range(10):\n",
      "    ims.append([ax.imshow(np.random.randn(20, 20))])\n",
      "\n",
      "# Create an animation object, passing it the figure and a\n",
      "# sequence of *collections* of Artists. In this case we are\n",
      "# giving it a list of lists of images.\n",
      "# Frames are displayed with a 500 millisecond delay\n",
      "anim = ArtistAnimation(fig, ims, interval=500)"
     ],
     "language": "python",
     "metadata": {},
     "outputs": []
    },
    {
     "cell_type": "markdown",
     "metadata": {},
     "source": [
      "Same animation, but this time delaying between restarts of the animation."
     ]
    },
    {
     "cell_type": "code",
     "collapsed": false,
     "input": [
      "from matplotlib.animation import ArtistAnimation\n",
      "fig = plt.figure()\n",
      "ax = fig.add_subplot(1, 1, 1)\n",
      "ims = []\n",
      "for i in range(10):\n",
      "    ims.append([ax.imshow(np.random.randn(20, 20))])\n",
      "\n",
      "anim = ArtistAnimation(fig, ims, interval=500, repeat_delay=3000)"
     ],
     "language": "python",
     "metadata": {},
     "outputs": []
    },
    {
     "cell_type": "markdown",
     "metadata": {},
     "source": [
      "We can also make the animation run only once."
     ]
    },
    {
     "cell_type": "code",
     "collapsed": false,
     "input": [
      "fig = plt.figure()\n",
      "ax = fig.add_subplot(1, 1, 1)\n",
      "ims = []\n",
      "for i in range(10):\n",
      "    ims.append([ax.imshow(np.random.randn(20, 20))])\n",
      "\n",
      "anim = ArtistAnimation(fig, ims, interval=500, repeat=False)"
     ],
     "language": "python",
     "metadata": {},
     "outputs": []
    },
    {
     "cell_type": "markdown",
     "metadata": {},
     "source": [
      "The reason for using a sequence of collections is to allows composing frames of multiple artists. For instance, we can take the random images a step further and move a green dot in a circular pattern around the center. (Pretend this is the output of some feature identification algorithm running on the image data.)"
     ]
    },
    {
     "cell_type": "code",
     "collapsed": false,
     "input": [
      "from matplotlib.patches import Circle\n",
      "fig = plt.figure()\n",
      "ax = fig.add_subplot(1, 1, 1)\n",
      "artists = []\n",
      "for i in range(10):\n",
      "    im = ax.imshow(np.random.randn(20, 20), extent=(-5, 5, -5, 5))\n",
      "    circle = Circle([2 * cos(i * np.pi / 5.), 2 * sin(i * np.pi / 5.)],\n",
      "        radius=0.25, color='green', fill=True)\n",
      "    ax.add_patch(circle)\n",
      "    artists.append([im, circle])\n",
      "\n",
      "anim = ArtistAnimation(fig, artists, interval=500, repeat_delay=1500)"
     ],
     "language": "python",
     "metadata": {},
     "outputs": []
    },
    {
     "cell_type": "markdown",
     "metadata": {},
     "source": [
      "FuncAnimation is more generic, using an arbitrary callback to set the frame for each animation, similar to what was done using just a timer. It is a bit more verbose, but gives greater flexibility in what can be done. Also, it can be more efficient by not creating so many artists but just re-using them with changing data."
     ]
    },
    {
     "cell_type": "code",
     "collapsed": false,
     "input": [
      "t = np.linspace(0, 10, 500)\n",
      "x = np.exp(-0.5 * t) * np.sin(2 * np.pi * t)\n",
      "fig = plt.figure()\n",
      "ax = fig.add_subplot(1, 1, 1)\n",
      "line, = plt.plot(t, x)\n",
      "\n",
      "def update_line(frame, line, t, x):\n",
      "    line.set_data(t[:frame], x[:frame])\n",
      "\n",
      "anim = FuncAnimation(fig, update_line, fargs=(line, t, x), interval=50)"
     ],
     "language": "python",
     "metadata": {},
     "outputs": []
    },
    {
     "cell_type": "heading",
     "level": 2,
     "metadata": {},
     "source": [
      "Exercise:"
     ]
    },
    {
     "cell_type": "markdown",
     "metadata": {},
     "source": [
      "Let's redo the timer example with the FuncAnimation class and see how things are simplified. You'll need to:\n",
      "\n",
      "* Create a callback function for updating the data on the lines\n",
      "* Createa FuncAnimation using this callback and the appropriate list of parameters\n",
      "\n",
      "Here is the same starting boilerplate:"
     ]
    },
    {
     "cell_type": "code",
     "collapsed": false,
     "input": [
      "# This creates a plot of a decaying sine/cosine wave\n",
      "t = np.linspace(0, 10, 500)\n",
      "x1 = np.exp(-0.5 * t) * np.sin(2 * np.pi * t)\n",
      "x2 = np.exp(-0.5 * t) * np.cos(2 * np.pi * t)\n",
      "fig = plt.figure()\n",
      "ax = fig.add_subplot(1, 1, 1)\n",
      "line1,line2 = plt.plot(t, x1, t, x2)\n",
      "\n",
      "# Add your code here"
     ],
     "language": "python",
     "metadata": {},
     "outputs": []
    },
    {
     "cell_type": "heading",
     "level": 2,
     "metadata": {},
     "source": [
      "Solution:"
     ]
    },
    {
     "cell_type": "code",
     "collapsed": false,
     "input": [
      "# This creates a plot of a decaying sine/cosine wave\n",
      "t = np.linspace(0, 10, 500)\n",
      "x1 = np.exp(-0.5 * t) * np.sin(2 * np.pi * t)\n",
      "x2 = np.exp(-0.5 * t) * np.cos(2 * np.pi * t)\n",
      "fig = plt.figure()\n",
      "ax = fig.add_subplot(1, 1, 1)\n",
      "line1,line2 = plt.plot(t, x1, t, x2)\n",
      "\n",
      "# The callback will be passed some sort of framedata as well as any additional\n",
      "# arguments passed to the FuncAnimation constructor\n",
      "def update_lines(frame, line1, line2, t, x1, x2):\n",
      "    line1.set_data(t[:frame], x1[:frame])\n",
      "    line2.set_data(t[:frame], x2[:frame])\n",
      "\n",
      "# Create a FuncAnimation object with update_line as the callback, frames here\n",
      "# is the number of frames in the animation. Could also be some sort of sequence\n",
      "# of data.\n",
      "# fargs gives additional arguments for the callback\n",
      "# interval gives the time between frames in milliseconds\n",
      "anim = FuncAnimation(fig, update_lines, frames=t.size, fargs=(line1, line2, t, x1, x2), interval=25)"
     ],
     "language": "python",
     "metadata": {},
     "outputs": []
    },
    {
     "cell_type": "heading",
     "level": 1,
     "metadata": {},
     "source": [
      "Advanced Tricks"
     ]
    },
    {
     "cell_type": "heading",
     "level": 2,
     "metadata": {},
     "source": [
      "Other frame data"
     ]
    },
    {
     "cell_type": "markdown",
     "metadata": {},
     "source": [
      "Frame data does not have to be a frame count or even a sequence of frame numbers. Framedata can be:\n",
      "\n",
      "* A sequence of anything\n",
      "* An iterator\n",
      "* A generator\n",
      "\n",
      "This gives more flexibility to FuncAnimation in terms of being able to do fully procedural plots instead of being locked into doing just pre-set sequences of frames."
     ]
    },
    {
     "cell_type": "code",
     "collapsed": false,
     "input": [
      "# Based on this blog post:\n",
      "# http://glowingpython.blogspot.com/2011/06/animation-with-matplotlib-bringin.html\n",
      "from matplotlib.lines import Line2D\n",
      "\n",
      "# Generator for producing new data\n",
      "def make_data():\n",
      "    A = np.array([ [.5, 0], [0, .5] ])\n",
      "    b1 = np.array([0, 0])\n",
      "    b2 = np.array([.5, 0])\n",
      "    b3 = np.array([.25, np.sqrt(3)/4])\n",
      "    b = [b1, b2, b3]\n",
      "    x = np.array([0, 0])\n",
      "    while True:\n",
      "        x = dot(A, x) + b[np.random.randint(0, 3)]\n",
      "        yield x\n",
      "\n",
      "# Function for generating new random data procedurally\n",
      "# We store the data in a list since it's good for appending.\n",
      "# However, you do end up copying a lot of data to arrays eventually.\n",
      "x = []\n",
      "y = []\n",
      "def update_line(newData, l, x, y):\n",
      "    newX, newY = newData\n",
      "    x.append(newX)\n",
      "    y.append(newY)\n",
      "    l.set_data(x, y)\n",
      "    return l,\n",
      "\n",
      "# Create a plot with some initial random data\n",
      "fig = plt.figure()\n",
      "ax = fig.add_subplot(1, 1, 1)\n",
      "line = Line2D([0], [0], markersize=6, color='m', marker='.', linestyle='none')\n",
      "ax.add_line(line)\n",
      "ax.set_xlim(0, 1)\n",
      "ax.set_ylim(0, 1)\n",
      "\n",
      "# Used to clear axes for blitting\n",
      "def init_blit():\n",
      "    line.set_data([], [])\n",
      "    return line,\n",
      "\n",
      "# Pass in our generator as the frames parameter\n",
      "anim = FuncAnimation(fig, update_line, frames=make_data, fargs=(line, x, y), interval=10,\n",
      "    blit=True, init_func=init_blit)"
     ],
     "language": "python",
     "metadata": {},
     "outputs": []
    },
    {
     "cell_type": "heading",
     "level": 2,
     "metadata": {},
     "source": [
      "Saving to file"
     ]
    },
    {
     "cell_type": "markdown",
     "metadata": {},
     "source": [
      "Creating animations for use when running analytical scripts is nice, but it's really nice to be able to save them for inclusion on the web or in presentations. Matplotlib's animation library features support for creating movie files using one of two \"backends\":\n",
      "\n",
      "* ffmpeg\n",
      "* mencoder\n",
      "\n",
      "In matplotlib git master, the movie writing support has undergone a substantial internal refactor. As a result, it is much easier to pass custom encoding options to control the codec and quality used for the resulting movie. Also, unix pipes are employed by default when using the ffmpeg/mencoder utility, drastically speeding up the write process.\n",
      "\n",
      "However, we will demonstrate saving files with the Matplotlib 1.1 code, whose API for the most part has only been extended."
     ]
    },
    {
     "cell_type": "code",
     "collapsed": false,
     "input": [
      "fig = plt.figure()\n",
      "ax = fig.add_subplot(1, 1, 1)\n",
      "ims = []\n",
      "for i in range(50):\n",
      "    ims.append([ax.imshow(np.random.randn(20, 20))])\n",
      "\n",
      "anim = ArtistAnimation(fig, ims, interval=500, repeat=False)\n",
      "anim.save('images.mp4', fps=15)"
     ],
     "language": "python",
     "metadata": {},
     "outputs": []
    },
    {
     "cell_type": "heading",
     "level": 2,
     "metadata": {},
     "source": [
      "Blitting"
     ]
    },
    {
     "cell_type": "markdown",
     "metadata": {},
     "source": [
      "Blitting is a technique for increasing animation performance by only drawing things that have changed. However, this requires:\n",
      "\n",
      "* An init_func for creating a clean slate (for erasing between frames)\n",
      "* Knowledge of what artists change in a frame so that only those are drawn\n",
      "\n",
      "As a result, blitting is not enabled by default."
     ]
    },
    {
     "cell_type": "code",
     "collapsed": false,
     "input": [
      "# This creates a plot of a decaying sine/cosine wave\n",
      "t = np.linspace(0, 10, 500)\n",
      "x1 = np.exp(-0.5 * t) * np.sin(2 * np.pi * t)\n",
      "x2 = np.exp(-0.5 * t) * np.cos(2 * np.pi * t)\n",
      "fig = plt.figure()\n",
      "ax = fig.add_subplot(1, 1, 1)\n",
      "line1,line2 = plt.plot(t, x1, t, x2)\n",
      "\n",
      "def update_lines(frame, line1, line2, t, x1, x2):\n",
      "    line1.set_data(t[:frame], x1[:frame])\n",
      "    line2.set_data(t[:frame], x2[:frame])\n",
      "    return line1, line2 # Added for blitting\n",
      "\n",
      "# This is created for blitting\n",
      "def init():\n",
      "    line1.set_data([], [])\n",
      "    line2.set_data([], [])\n",
      "    return line1, line2\n",
      "\n",
      "anim = FuncAnimation(fig, update_lines, frames=t.size, fargs=(line1, line2, t, x1, x2), interval=10,\n",
      "    init_func=init, blit=True)"
     ],
     "language": "python",
     "metadata": {},
     "outputs": []
    },
    {
     "cell_type": "heading",
     "level": 2,
     "metadata": {},
     "source": [
      "John Hunter's Double Pendulum Demo"
     ]
    },
    {
     "cell_type": "code",
     "collapsed": false,
     "input": [
      "# Double pendulum formula translated from the C code at\n",
      "# http://www.physics.usyd.edu.au/~wheat/dpend_html/solve_dpend.c\n",
      "\n",
      "from numpy import sin, cos, pi, array\n",
      "import numpy as np\n",
      "import matplotlib.pyplot as plt\n",
      "import scipy.integrate as integrate\n",
      "import matplotlib.animation as animation\n",
      "\n",
      "G =  9.8 # acceleration due to gravity, in m/s^2\n",
      "L1 = 1.0 # length of pendulum 1 in m\n",
      "L2 = 1.0 # length of pendulum 2 in m\n",
      "M1 = 1.0 # mass of pendulum 1 in kg\n",
      "M2 = 1.0 # mass of pendulum 2 in kg\n",
      "\n",
      "\n",
      "def derivs(state, t):\n",
      "\n",
      "    dydx = np.zeros_like(state)\n",
      "    dydx[0] = state[1]\n",
      "\n",
      "    del_ = state[2]-state[0]\n",
      "    den1 = (M1+M2)*L1 - M2*L1*cos(del_)*cos(del_)\n",
      "    dydx[1] = (M2*L1*state[1]*state[1]*sin(del_)*cos(del_)\n",
      "               + M2*G*sin(state[2])*cos(del_) + M2*L2*state[3]*state[3]*sin(del_)\n",
      "               - (M1+M2)*G*sin(state[0]))/den1\n",
      "\n",
      "    dydx[2] = state[3]\n",
      "\n",
      "    den2 = (L2/L1)*den1\n",
      "    dydx[3] = (-M2*L2*state[3]*state[3]*sin(del_)*cos(del_)\n",
      "               + (M1+M2)*G*sin(state[0])*cos(del_)\n",
      "               - (M1+M2)*L1*state[1]*state[1]*sin(del_)\n",
      "               - (M1+M2)*G*sin(state[2]))/den2\n",
      "\n",
      "    return dydx\n",
      "\n",
      "# create a time array from 0..100 sampled at 0.1 second steps\n",
      "dt = 0.05\n",
      "t = np.arange(0.0, 20, dt)\n",
      "\n",
      "# th1 and th2 are the initial angles (degrees)\n",
      "# w10 and w20 are the initial angular velocities (degrees per second)\n",
      "th1 = 120.0\n",
      "w1 = 0.0\n",
      "th2 = -10.0\n",
      "w2 = 0.0\n",
      "\n",
      "rad = pi/180\n",
      "\n",
      "# initial state\n",
      "state = np.array([th1, w1, th2, w2])*pi/180.\n",
      "\n",
      "# integrate your ODE using scipy.integrate.\n",
      "y = integrate.odeint(derivs, state, t)\n",
      "\n",
      "x1 = L1*sin(y[:,0])\n",
      "y1 = -L1*cos(y[:,0])\n",
      "\n",
      "x2 = L2*sin(y[:,2]) + x1\n",
      "y2 = -L2*cos(y[:,2]) + y1\n",
      "\n",
      "fig = plt.figure()\n",
      "ax = fig.add_subplot(111, autoscale_on=False, xlim=(-2, 2), ylim=(-2, 2))\n",
      "ax.grid()\n",
      "\n",
      "line, = ax.plot([], [], 'o-', lw=2)\n",
      "time_template = 'time = %.1fs'\n",
      "time_text = ax.text(0.05, 0.9, '', transform=ax.transAxes)\n",
      "\n",
      "def init():\n",
      "    line.set_data([], [])\n",
      "    time_text.set_text('')\n",
      "    return line, time_text\n",
      "\n",
      "def animate(i):\n",
      "    thisx = [0, x1[i], x2[i]]\n",
      "    thisy = [0, y1[i], y2[i]]\n",
      "\n",
      "    line.set_data(thisx, thisy)\n",
      "    time_text.set_text(time_template%(i*dt))\n",
      "    return line, time_text\n",
      "\n",
      "ani = animation.FuncAnimation(fig, animate, np.arange(1, len(y)),\n",
      "    interval=25, blit=True, init_func=init)"
     ],
     "language": "python",
     "metadata": {},
     "outputs": []
    },
    {
     "cell_type": "heading",
     "level": 2,
     "metadata": {},
     "source": [
      "Exercise:"
     ]
    },
    {
     "cell_type": "markdown",
     "metadata": {},
     "source": [
      "Let's animate a complex, multi-panel plot. Since the Animation objects work at the Figure level, this does not create too much more complexity, just more plot objects. Given the x, y, z dataset below, create and animate:\n",
      "\n",
      "* panel with x versus z\n",
      "* panel with y versus z\n",
      "* panel with x versus y\n",
      "\n",
      "In these plots, be sure to make the current point stand out from the rest of the data.\n",
      "\n",
      "This animation can be done as a straightforward extension of the previous examples. However, due to the amount of state that has to be managed (multiple lines, etc.) you may want to try using a class to store the state and have an instance's method as the callback."
     ]
    },
    {
     "cell_type": "code",
     "collapsed": false,
     "input": [
      "t = np.linspace(0, 80, 400)\n",
      "x = np.cos(2 * np.pi * t / 10.)\n",
      "y = np.sin(2 * np.pi * t / 10.)\n",
      "z = 10 * t\n",
      "\n",
      "# Add your code here"
     ],
     "language": "python",
     "metadata": {},
     "outputs": []
    },
    {
     "cell_type": "heading",
     "level": 2,
     "metadata": {},
     "source": [
      "Solution:"
     ]
    },
    {
     "cell_type": "code",
     "collapsed": false,
     "input": [
      "class SubplotAnim():\n",
      "    def __init__(self):\n",
      "        self.fig = plt.figure()\n",
      "        ax1 = plt.subplot2grid((2, 2), loc=(0, 0), rowspan=2)\n",
      "        ax2 = plt.subplot2grid((2, 2), loc=(0, 1))\n",
      "        ax3 = plt.subplot2grid((2, 2), loc=(1, 1))\n",
      "\n",
      "        self.t = np.linspace(0, 80, 400)\n",
      "        self.x = np.cos(2 * np.pi * self.t / 10.)\n",
      "        self.y = np.sin(2 * np.pi * self.t / 10.)\n",
      "        self.z = 10 * self.t\n",
      "\n",
      "        ax1.set_xlabel('x')\n",
      "        ax1.set_ylabel('y')\n",
      "        self.line1 = Line2D([], [], color='black')\n",
      "        self.line1a = Line2D([], [], color='red', linewidth=2)\n",
      "        self.line1e = Line2D([], [], color='red', marker='o', markeredgecolor='r')\n",
      "        ax1.add_line(self.line1)\n",
      "        ax1.add_line(self.line1a)\n",
      "        ax1.add_line(self.line1e)\n",
      "        ax1.set_xlim(-1, 1)\n",
      "        ax1.set_ylim(-2, 2)\n",
      "        ax1.set_aspect('equal', 'datalim')\n",
      "\n",
      "        ax2.set_xlabel('y')\n",
      "        ax2.set_ylabel('z')\n",
      "        self.line2 = Line2D([], [], color='black')\n",
      "        self.line2a = Line2D([], [], color='red', linewidth=2)\n",
      "        self.line2e = Line2D([], [], color='red', marker='o', markeredgecolor='r')\n",
      "        ax2.add_line(self.line2)\n",
      "        ax2.add_line(self.line2a)\n",
      "        ax2.add_line(self.line2e)\n",
      "        ax2.set_xlim(-1, 1)\n",
      "        ax2.set_ylim(0, 800)\n",
      "\n",
      "        ax3.set_xlabel('x')\n",
      "        ax3.set_ylabel('z')\n",
      "        self.line3 = Line2D([], [], color='black')\n",
      "        self.line3a = Line2D([], [], color='red', linewidth=2)\n",
      "        self.line3e = Line2D([], [], color='red', marker='o', markeredgecolor='r')\n",
      "        ax3.add_line(self.line3)\n",
      "        ax3.add_line(self.line3a)\n",
      "        ax3.add_line(self.line3e)\n",
      "        ax3.set_xlim(-1, 1)\n",
      "        ax3.set_ylim(0, 800)\n",
      "\n",
      "    def update(self, framedata):\n",
      "        i = framedata\n",
      "        head = i - 1\n",
      "        head_len = 10\n",
      "        head_slice = (self.t > self.t[i] - 1.0) & (self.t < self.t[i])\n",
      "\n",
      "        self.line1.set_data(self.x[:i], self.y[:i])\n",
      "        self.line1a.set_data(self.x[head_slice], self.y[head_slice])\n",
      "        self.line1e.set_data(self.x[head], self.y[head])\n",
      "\n",
      "        self.line2.set_data(self.y[:i], self.z[:i])\n",
      "        self.line2a.set_data(self.y[head_slice], self.z[head_slice])\n",
      "        self.line2e.set_data(self.y[head], self.z[head])\n",
      "\n",
      "        self.line3.set_data(self.x[:i], self.z[:i])\n",
      "        self.line3a.set_data(self.x[head_slice], self.z[head_slice])\n",
      "        self.line3e.set_data(self.x[head], self.z[head])\n",
      "\n",
      "        return [self.line1, self.line1a, self.line1e,\n",
      "            self.line2, self.line2a, self.line2e,\n",
      "            self.line3, self.line3a, self.line3e]\n",
      "\n",
      "    def init(self):\n",
      "        lines = [self.line1, self.line1a, self.line1e,\n",
      "            self.line2, self.line2a, self.line2e,\n",
      "            self.line3, self.line3a, self.line3e]\n",
      "        for l in lines:\n",
      "            l.set_data([], [])\n",
      "        return lines\n",
      "\n",
      "sub = SubplotAnim()\n",
      "anim = FuncAnimation(sub.fig, sub.update, init_func=sub.init, frames=sub.t.size, interval=25, blit=True)"
     ],
     "language": "python",
     "metadata": {},
     "outputs": []
    }
   ],
   "metadata": {}
  }
 ]
}