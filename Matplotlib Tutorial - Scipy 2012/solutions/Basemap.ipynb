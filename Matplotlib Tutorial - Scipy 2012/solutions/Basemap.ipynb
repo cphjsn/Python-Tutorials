{
 "metadata": {
  "name": "Basemap"
 },
 "nbformat": 3,
 "nbformat_minor": 0,
 "worksheets": [
  {
   "cells": [
    {
     "cell_type": "code",
     "collapsed": false,
     "input": [
      "%pylab inline"
     ],
     "language": "python",
     "metadata": {},
     "outputs": []
    },
    {
     "cell_type": "heading",
     "level": 1,
     "metadata": {},
     "source": [
      "Basic Plotting"
     ]
    },
    {
     "cell_type": "markdown",
     "metadata": {},
     "source": [
      "Basemap is a toolkit for Matplotlib that facilitates plotting data on maps. Features:\n",
      "\n",
      "* Reading in and displaying shapefiles\n",
      "* Plotting based on shapefile attributes\n",
      "* Wide variety of map projections\n",
      "* Warping images to projection\n",
      "* Plotting through Matplotlib's usual plot methods.\n",
      "* Manages ticking and aspect ratio"
     ]
    },
    {
     "cell_type": "code",
     "collapsed": false,
     "input": [
      "from mpl_toolkits.basemap import Basemap\n",
      "m = Basemap(-110, 25, -90, 40, projection='laea', lat_0=32.5, lon_0=-97, resolution='i')\n",
      "m.drawcoastlines()\n",
      "m.drawcountries()\n",
      "m.drawstates()"
     ],
     "language": "python",
     "metadata": {},
     "outputs": []
    },
    {
     "cell_type": "code",
     "collapsed": false,
     "input": [
      "austin = (-97.754, 30.261)\n",
      "austinX, austinY = m(*austin)\n",
      "m.drawcoastlines()\n",
      "m.drawcountries()\n",
      "m.drawstates()\n",
      "m.plot(austinX, austinY, marker='s')"
     ],
     "language": "python",
     "metadata": {},
     "outputs": []
    },
    {
     "cell_type": "code",
     "collapsed": false,
     "input": [
      "austinX, austinY"
     ],
     "language": "python",
     "metadata": {},
     "outputs": []
    },
    {
     "cell_type": "code",
     "collapsed": false,
     "input": [
      "m.drawcoastlines()\n",
      "m.drawcountries()\n",
      "m.drawstates()\n",
      "m.bluemarble()"
     ],
     "language": "python",
     "metadata": {},
     "outputs": []
    },
    {
     "cell_type": "code",
     "collapsed": false,
     "input": [
      "m.drawcoastlines()\n",
      "m.drawcountries()\n",
      "m.drawstates()\n",
      "m.bluemarble()\n",
      "\n",
      "# Make a 1 degree grid\n",
      "lon = np.arange(-110, -89, 1)\n",
      "lat = np.arange(25, 45, 1)\n",
      "lon,lat = np.meshgrid(lon, lat)\n",
      "data = (lon - -100)**2 + (lat - 32)**2\n",
      "\n",
      "x,y = m(lon, lat)\n",
      "m.contour(x, y, data, 15)\n"
     ],
     "language": "python",
     "metadata": {},
     "outputs": []
    },
    {
     "cell_type": "heading",
     "level": 2,
     "metadata": {},
     "source": [
      "EXERCISE:"
     ]
    },
    {
     "cell_type": "markdown",
     "metadata": {},
     "source": [
      " Make a plot of scattered random data (given) on an Lambert Conformal Conic (lcc) projection. Include ocean and country borders."
     ]
    },
    {
     "cell_type": "code",
     "collapsed": false,
     "input": [
      "t = np.linspace(0, 24)\n",
      "vel = np.array([0.75, 0.25])[:, None] + np.random.randn(2, t.size)\n",
      "pos = np.empty((2, t.size))\n",
      "pos[:, 0] = [-97.754, 30.261]\n",
      "for i in range(1, t.size):\n",
      "    pos[:, i] = pos[:, i - 1] + vel[:, i] * (t[i] - t[i - 1])"
     ],
     "language": "python",
     "metadata": {},
     "outputs": []
    },
    {
     "cell_type": "code",
     "collapsed": false,
     "input": [],
     "language": "python",
     "metadata": {},
     "outputs": []
    },
    {
     "cell_type": "heading",
     "level": 2,
     "metadata": {},
     "source": [
      "Solution:"
     ]
    },
    {
     "cell_type": "code",
     "collapsed": false,
     "input": [
      "m = Basemap(-120, 25, -70, 50, projection='cyl', resolution='i')\n",
      "x,y = m(*pos)\n",
      "m.drawcoastlines()\n",
      "m.drawcountries()\n",
      "m.drawstates()\n",
      "m.drawmapboundary(fill_color='skyblue')\n",
      "m.fillcontinents('tan', lake_color='skyblue')\n",
      "m.plot(x, y, 'r--')\n"
     ],
     "language": "python",
     "metadata": {},
     "outputs": []
    },
    {
     "cell_type": "heading",
     "level": 1,
     "metadata": {},
     "source": [
      "Advanced Features"
     ]
    },
    {
     "cell_type": "code",
     "collapsed": false,
     "input": [
      "from datetime import datetime\n",
      "m = Basemap(projection='mill', lon_0=180)\n",
      "m.drawmapboundary(fill_color='royalblue')\n",
      "m.drawcoastlines()\n",
      "m.fillcontinents()\n",
      "m.drawcountries()\n",
      "CS = m.nightshade(datetime.utcnow())"
     ],
     "language": "python",
     "metadata": {},
     "outputs": []
    },
    {
     "cell_type": "heading",
     "level": 2,
     "metadata": {},
     "source": [
      "Great circles"
     ]
    },
    {
     "cell_type": "code",
     "collapsed": false,
     "input": [
      "from mpl_toolkits.basemap import Basemap\n",
      "import numpy as np\n",
      "import matplotlib.pyplot as plt\n",
      "\n",
      "# setup lambert azimuthal map projection.\n",
      "# create new figure\n",
      "fig=plt.figure()\n",
      "m = Basemap(llcrnrlon=-100.,llcrnrlat=20.,urcrnrlon=20.,urcrnrlat=60.,\\\n",
      "            rsphere=(6378137.00,6356752.3142),\\\n",
      "            resolution='c',area_thresh=10000.,projection='merc',\\\n",
      "            lat_0=40.,lon_0=-20.,lat_ts=20.)\n",
      "#m = Basemap(llcrnrlon=-100.,llcrnrlat=20.,urcrnrlon=20.,urcrnrlat=60.,\\\n",
      "#            resolution='c',area_thresh=10000.,projection='gnom',\\\n",
      "#            lat_0=40.,lon_0=-45.)\n",
      "\n",
      "# nylat, nylon are lat/lon of New York\n",
      "nylat = 40.78\n",
      "nylon = -73.98\n",
      "# lonlat, lonlon are lat/lon of London.\n",
      "lonlat = 51.53\n",
      "lonlon = 0.08\n",
      "# find 1000 points along the great circle.\n",
      "#x,y = m.gcpoints(nylon,nylat,lonlon,lonlat,1000)\n",
      "# draw the great circle.\n",
      "#m.plot(x,y,linewidth=2)\n",
      "# drawgreatcircle performs the previous 2 steps in one call.\n",
      "m.drawgreatcircle(nylon,nylat,lonlon,lonlat,linewidth=2,color='b')\n",
      "m.drawcoastlines()\n",
      "m.fillcontinents()\n",
      "# draw parallels\n",
      "circles = np.arange(10,90,20)\n",
      "m.drawparallels(circles,labels=[1,1,0,1])\n",
      "# draw meridians\n",
      "meridians = np.arange(-180,180,30)\n",
      "m.drawmeridians(meridians,labels=[1,1,0,1])"
     ],
     "language": "python",
     "metadata": {},
     "outputs": []
    },
    {
     "cell_type": "heading",
     "level": 2,
     "metadata": {},
     "source": [
      "Plotting custom shape file"
     ]
    },
    {
     "cell_type": "code",
     "collapsed": false,
     "input": [
      "import numpy as np\n",
      "import matplotlib.pyplot as plt\n",
      "from mpl_toolkits.basemap import Basemap as Basemap\n",
      "from matplotlib.colors import rgb2hex\n",
      "from matplotlib.patches import Polygon\n",
      "\n",
      "# Lambert Conformal map of lower 48 states.\n",
      "m = Basemap(llcrnrlon=-119,llcrnrlat=22,urcrnrlon=-64,urcrnrlat=49,\n",
      "            projection='lcc',lat_1=33,lat_2=45,lon_0=-95)\n",
      "\n",
      "# State boundary data\n",
      "# data from U.S Census Bureau\n",
      "# http://www.census.gov/geo/www/cob/st2000.html\n",
      "shp_info = m.readshapefile('st99_d00','states',drawbounds=True)\n",
      "# population density by state from\n",
      "# http://en.wikipedia.org/wiki/List_of_U.S._states_by_population_density\n",
      "popdensity = {\n",
      "'New Jersey':  438.00,\n",
      "'Rhode Island':   387.35,\n",
      "'Massachusetts':   312.68,\n",
      "'Connecticut':    271.40,\n",
      "'Maryland':   209.23,\n",
      "'New York':    155.18,\n",
      "'Delaware':    154.87,\n",
      "'Florida':     114.43,\n",
      "'Ohio':  107.05,\n",
      "'Pennsylvania':  105.80,\n",
      "'Illinois':    86.27,\n",
      "'California':  83.85,\n",
      "'Hawaii':  72.83,\n",
      "'Virginia':    69.03,\n",
      "'Michigan':    67.55,\n",
      "'Indiana':    65.46,\n",
      "'North Carolina':  63.80,\n",
      "'Georgia':     54.59,\n",
      "'Tennessee':   53.29,\n",
      "'New Hampshire':   53.20,\n",
      "'South Carolina':  51.45,\n",
      "'Louisiana':   39.61,\n",
      "'Kentucky':   39.28,\n",
      "'Wisconsin':  38.13,\n",
      "'Washington':  34.20,\n",
      "'Alabama':     33.84,\n",
      "'Missouri':    31.36,\n",
      "'Texas':   30.75,\n",
      "'West Virginia':   29.00,\n",
      "'Vermont':     25.41,\n",
      "'Minnesota':  23.86,\n",
      "'Mississippi':   23.42,\n",
      "'Iowa':  20.22,\n",
      "'Arkansas':    19.82,\n",
      "'Oklahoma':    19.40,\n",
      "'Arizona':     17.43,\n",
      "'Colorado':    16.01,\n",
      "'Maine':  15.95,\n",
      "'Oregon':  13.76,\n",
      "'Kansas':  12.69,\n",
      "'Utah':  10.50,\n",
      "'Nebraska':    8.60,\n",
      "'Nevada':  7.03,\n",
      "'Idaho':   6.04,\n",
      "'New Mexico':  5.79,\n",
      "'South Dakota':  3.84,\n",
      "'North Dakota':  3.59,\n",
      "'Montana':     2.39,\n",
      "'Wyoming':      1.96,\n",
      "'Alaska':     0.42}\n",
      "# choose a color for each state based on population density.\n",
      "colors={}\n",
      "statenames=[]\n",
      "cmap = plt.cm.hot # use 'hot' colormap\n",
      "vmin = 0; vmax = 450 # set range.\n",
      "print m.states_info[0].keys()\n",
      "for shapedict in m.states_info:\n",
      "    statename = shapedict['NAME']\n",
      "    # skip DC and Puerto Rico.\n",
      "    if statename not in ['District of Columbia','Puerto Rico']:\n",
      "        pop = popdensity[statename]\n",
      "        # calling colormap with value between 0 and 1 returns\n",
      "        # rgba value.  Invert color range (hot colors are high\n",
      "        # population), take sqrt root to spread out colors more.\n",
      "        colors[statename] = cmap(1.-np.sqrt((pop-vmin)/(vmax-vmin)))[:3]\n",
      "    statenames.append(statename)\n",
      "# cycle through state names, color each one.\n",
      "ax = plt.gca() # get current axes instance\n",
      "for nshape,seg in enumerate(m.states):\n",
      "    # skip DC and Puerto Rico.\n",
      "    if statenames[nshape] not in ['District of Columbia','Puerto Rico']:\n",
      "        color = rgb2hex(colors[statenames[nshape]]) \n",
      "        poly = Polygon(seg,facecolor=color,edgecolor=color)\n",
      "        ax.add_patch(poly)\n",
      "# draw meridians and parallels.\n",
      "m.drawparallels(np.arange(25,65,20),labels=[1,0,0,0])\n",
      "m.drawmeridians(np.arange(-120,-40,20),labels=[0,0,0,1])\n",
      "plt.title('Filling State Polygons by Population Density')"
     ],
     "language": "python",
     "metadata": {},
     "outputs": []
    },
    {
     "cell_type": "code",
     "collapsed": false,
     "input": [],
     "language": "python",
     "metadata": {},
     "outputs": []
    }
   ],
   "metadata": {}
  }
 ]
}