{
 "metadata": {
  "name": "Axes"
 },
 "nbformat": 3,
 "nbformat_minor": 0,
 "worksheets": [
  {
   "cells": [
    {
     "cell_type": "code",
     "collapsed": false,
     "input": [
      "# Set up some data\n",
      "#%pylab inline\n",
      "import numpy as np\n",
      "import matplotlib.pyplot as plt\n",
      "x = np.random.randn(100)\n",
      "y = np.random.randn(9, 100)"
     ],
     "language": "python",
     "metadata": {},
     "outputs": []
    },
    {
     "cell_type": "heading",
     "level": 1,
     "metadata": {},
     "source": [
      "Basic Axes Layouts"
     ]
    },
    {
     "cell_type": "markdown",
     "metadata": {},
     "source": [
      "The original way to get layouts of axes is the MatLab-style subplot() command."
     ]
    },
    {
     "cell_type": "code",
     "collapsed": false,
     "input": [
      "fig = plt.figure()\n",
      "for i in range(9):\n",
      "    ax = fig.add_subplot(3, 3, i + 1)\n",
      "    ax.plot(1000 * x, 1000 * y[i])"
     ],
     "language": "python",
     "metadata": {},
     "outputs": []
    },
    {
     "cell_type": "markdown",
     "metadata": {},
     "source": [
      "Of course, to make sure of sharing axes is an utter pain this way:"
     ]
    },
    {
     "cell_type": "code",
     "collapsed": false,
     "input": [
      "fig = plt.figure()\n",
      "shareAx = None\n",
      "for i in range(9):\n",
      "    ax = fig.add_subplot(3, 3, i + 1, sharex=shareAx, sharey=shareAx)\n",
      "    ax.plot(1000 * x, 1000 * y[i])\n",
      "    if shareAx is None:\n",
      "        shareAx = ax"
     ],
     "language": "python",
     "metadata": {},
     "outputs": []
    },
    {
     "cell_type": "markdown",
     "metadata": {},
     "source": [
      "With subplot(), you need to create each axes object individually. subplots() eliminates this and allows you to create all the axes in one go. For many applications, this elminates code duplication and makes scripts easier to maintain."
     ]
    },
    {
     "cell_type": "code",
     "collapsed": false,
     "input": [
      "fig, axes = plt.subplots(3, 3, sharex=True, sharey=True)\n",
      "for i,ax in enumerate(axes.flat):\n",
      "    ax.plot(1000 * x, 1000 * y[i])"
     ],
     "language": "python",
     "metadata": {},
     "outputs": []
    },
    {
     "cell_type": "code",
     "collapsed": false,
     "input": [
      "axes"
     ],
     "language": "python",
     "metadata": {},
     "outputs": []
    },
    {
     "cell_type": "markdown",
     "metadata": {},
     "source": [
      "As you can see, the problem of overlapping labels is handled by removing the redundant labels. But what about the case where the labels are not redundant?"
     ]
    },
    {
     "cell_type": "code",
     "collapsed": false,
     "input": [
      "fig, axes = plt.subplots(3, 3)\n",
      "for i,ax in enumerate(axes.flat):\n",
      "    ax.plot(x**(i+1), y[i]**(i+1))\n",
      "fig.tight_layout()\n",
      "plt.draw()"
     ],
     "language": "python",
     "metadata": {},
     "outputs": []
    },
    {
     "cell_type": "markdown",
     "metadata": {},
     "source": [
      "tight_layout() adjusts the sizes of all the Axes to ensure that there is sufficient room for the text labels between the Axes objects. This helps resolve the problem but does not help when tick labels overlap each other. Axes.locator_params is a helper that makes it easier to adjust parameters on the tick Locators. In this case, we tell the MaxNLocator (which is used by default) to only have at most 4 increments between ticks."
     ]
    },
    {
     "cell_type": "code",
     "collapsed": false,
     "input": [
      "fig, axes = plt.subplots(3, 3)\n",
      "for i,ax in enumerate(axes.flat):\n",
      "    ax.plot(x**(i+1), y[i]**(i+1))\n",
      "    ax.locator_params(axis='both', nbins=4)\n",
      "fig.tight_layout()\n",
      "plt.draw()"
     ],
     "language": "python",
     "metadata": {},
     "outputs": []
    },
    {
     "cell_type": "markdown",
     "metadata": {},
     "source": [
      "Better, but there's still quite a bit of overlap on some of them. We can improve it by adjusting the formatting of the labels to use scientific notation. ticklabel_format() is a helper that allows us to control this easily. In this case, we change the scientific notation limit of the default ScalarFormatter."
     ]
    },
    {
     "cell_type": "code",
     "collapsed": false,
     "input": [
      "fig, axes = plt.subplots(3, 3)\n",
      "for i,ax in enumerate(axes.flat):\n",
      "    ax.plot(x**(i+1), y[i]**(i+1))\n",
      "    ax.locator_params(axis='both', nbins=4)\n",
      "    ax.ticklabel_format(scilimits=(-1, 1))\n",
      "fig.tight_layout()\n",
      "plt.draw()"
     ],
     "language": "python",
     "metadata": {},
     "outputs": []
    },
    {
     "cell_type": "heading",
     "level": 2,
     "metadata": {},
     "source": [
      "Exercise:"
     ]
    },
    {
     "cell_type": "markdown",
     "metadata": {},
     "source": [
      "Take the following data and make a set of scatter plots with 2 rows and 4 columns. Each row should plot either x[0] or x[1] and each column should plot the Y data appropriate to that panel (i.e. the 2nd row and 3rd column should plot y[1][2]). You should experiment with sharing any appropriate axes and seeing what can be done to produce clean tick (non-overlapping) ticks."
     ]
    },
    {
     "cell_type": "code",
     "collapsed": false,
     "input": [
      "x = np.array([20 * np.random.rand(100) - 10, 10 * np.random.randn(100)])\n",
      "y = np.array([x, x**2, x**3, x**4])\n",
      "y = y.swapaxes(0, 1) # To make Y have shape (2, 4, 100)\n",
      "\n",
      "# Your code here"
     ],
     "language": "python",
     "metadata": {},
     "outputs": []
    },
    {
     "cell_type": "heading",
     "level": 1,
     "metadata": {},
     "source": [
      "Advanced Layouts"
     ]
    },
    {
     "cell_type": "heading",
     "level": 2,
     "metadata": {},
     "source": [
      "subplot2grid()"
     ]
    },
    {
     "cell_type": "markdown",
     "metadata": {},
     "source": [
      "Matplotlib also has support for more advanced layouts for when uniformly sized axes are insufficient. One method for this is subplot2grid, which uses a subplot-like syntax to allow for axes that span multiple locations."
     ]
    },
    {
     "cell_type": "code",
     "collapsed": false,
     "input": [
      "# Time to change up the data\n",
      "om = 0.2\n",
      "t = np.linspace(0, 5)\n",
      "x1 = np.sin(2 * np.pi * om * t)\n",
      "x2 = np.sin(2 * np.pi * (2 * om) * t)\n",
      "x3 = np.sin(2 * np.pi * (3 * om) * t)"
     ],
     "language": "python",
     "metadata": {},
     "outputs": []
    },
    {
     "cell_type": "code",
     "collapsed": false,
     "input": [
      "fig = plt.figure()\n",
      "ax = plt.subplot2grid((2, 3), loc=(0, 0), colspan=2)\n",
      "ax.plot(t, x1)\n",
      "\n",
      "ax = plt.subplot2grid((2, 3), loc=(0, 2))\n",
      "ax.plot(t, x2)\n",
      "\n",
      "ax = plt.subplot2grid((2, 3), loc=(1, 0), colspan=3)\n",
      "ax.plot(t, x3)\n",
      "\n",
      "fig.tight_layout()\n",
      "plt.draw()"
     ],
     "language": "python",
     "metadata": {},
     "outputs": []
    },
    {
     "cell_type": "heading",
     "level": 2,
     "metadata": {},
     "source": [
      "AxesDivider and ImageGrid"
     ]
    },
    {
     "cell_type": "raw",
     "metadata": {},
     "source": [
      "AxesGrid is a toolkit for Matplotlib that adds a layout engine for managing the locations of Axes. It is more complex to use, but offers complete control of how the Axes are laid out. This includes a variety of ways to specify sizes (physical and relative units) and sizes of spaces between them."
     ]
    },
    {
     "cell_type": "code",
     "collapsed": false,
     "input": [
      "from mpl_toolkits.axes_grid1 import make_axes_locatable\n",
      "fig = plt.figure()\n",
      "ax = fig.add_subplot(1, 1, 1)\n",
      "ax.plot(t, x1)\n",
      "\n",
      "# Set up the divider on the axes\n",
      "divider = make_axes_locatable(ax)\n",
      "\n",
      "# Add one axis to the right\n",
      "ax2 = divider.append_axes('right', size='33%', pad=0.5)\n",
      "ax2.plot(t, x2)\n",
      "\n",
      "# And another..\n",
      "ax3 = divider.append_axes('right', size='33%', pad=0.5)\n",
      "ax3.plot(t, x3)\n"
     ],
     "language": "python",
     "metadata": {},
     "outputs": []
    },
    {
     "cell_type": "markdown",
     "metadata": {},
     "source": [
      "make_axes_locatable() gives one way to handle this, by giving the append_axes() method. Another way is by creating a Divider object and giving it the layout up front."
     ]
    },
    {
     "cell_type": "code",
     "collapsed": false,
     "input": [
      "from mpl_toolkits.axes_grid1 import Size, Divider\n",
      "fig = plt.figure()\n",
      "ax = [fig.add_axes([0.1,0.1,0.8,0.8], label='%d'%i) for i in range(3)] # Create 3 Axes to be sized later\n",
      "horiz = [Size.Scaled(2), Size.Fixed(0.5), Size.Scaled(3), Size.Fixed(0.01)]\n",
      "vert = [Size.Scaled(1), Size.Fixed(0.5), Size.Scaled(1)]\n",
      "\n",
      "div = Divider(fig, (0.1, 0.1, 0.8, 0.8), horiz, vert, aspect=False)\n",
      "\n",
      "ax[0].set_axes_locator(div.new_locator(nx=0, ny=0))\n",
      "ax[1].set_axes_locator(div.new_locator(nx=2, ny=0))\n",
      "ax[2].set_axes_locator(div.new_locator(nx=0, nx1=2, ny=2))\n",
      "\n",
      "ax[0].plot(t, x1)\n",
      "ax[1].plot(t, x2)\n",
      "ax[2].plot(t, x3)"
     ],
     "language": "python",
     "metadata": {},
     "outputs": []
    },
    {
     "cell_type": "raw",
     "metadata": {},
     "source": [
      "One obvious application of this is for doing grid of plots with colorbars. For this use case we can go one step further and make use of the ImageGrid class."
     ]
    },
    {
     "cell_type": "code",
     "collapsed": false,
     "input": [
      "from mpl_toolkits.axes_grid1 import ImageGrid\n",
      "x = y = np.linspace(-3, 3, 300)\n",
      "data = np.sin(2 * x[:, None]) * np.sin(2 * y)\n",
      "\n",
      "fig = plt.figure()\n",
      "grid = ImageGrid(fig, (1, 1, 1), nrows_ncols=(2, 2), axes_pad=0.4,\n",
      "                 add_all=True, label_mode='L', cbar_mode='each',\n",
      "                 cbar_location='right', cbar_pad=0.05)\n",
      "\n",
      "cmaps = ['spring', 'summer', 'autumn', 'winter']\n",
      "for i in range(4):\n",
      "    im = grid[i].imshow(data, extent=(-3, 3, -3, 3), cmap=cmaps[i])\n",
      "    grid.cbar_axes[i].colorbar(im)"
     ],
     "language": "python",
     "metadata": {},
     "outputs": []
    },
    {
     "cell_type": "code",
     "collapsed": false,
     "input": [
      "fig = plt.figure()\n",
      "grid = ImageGrid(fig, (1, 1, 1), nrows_ncols=(2, 2), axes_pad=0.2,\n",
      "                 add_all=True, label_mode='L', cbar_mode='single',\n",
      "                 cbar_location='right', cbar_pad=0.1)\n",
      "\n",
      "for i in range(4):\n",
      "    im = grid[i].imshow(data + 0.25 * np.random.randn(*data.shape),\n",
      "        extent=(-3, 3, -3, 3), cmap='summer')\n",
      "grid.cbar_axes[0].colorbar(im)\n",
      "plt.draw()"
     ],
     "language": "python",
     "metadata": {},
     "outputs": []
    },
    {
     "cell_type": "markdown",
     "metadata": {},
     "source": [
      "The axes_grid toolkit provides one other useful tool for automatic layout, but this one isn't for Axes: the AnchoredArtist. Essentially, this provides a set of Artists that can be anchored to a specific part of a figure. This is extremely useful for things like subpanel labels."
     ]
    },
    {
     "cell_type": "code",
     "collapsed": false,
     "input": [
      "from mpl_toolkits.axes_grid1.anchored_artists import AnchoredText"
     ],
     "language": "python",
     "metadata": {},
     "outputs": []
    },
    {
     "cell_type": "code",
     "collapsed": false,
     "input": [
      "# This is adapted from Matplotlib's example on anchored artists\n",
      "import mpl_toolkits.axes_grid1.anchored_artists as AA\n",
      "from matplotlib.patches import Circle\n",
      "\n",
      "fig = plt.figure()\n",
      "ax = fig.add_subplot(1, 1, 1)\n",
      "\n",
      "at = AA.AnchoredText(\"Figure 1a\",\n",
      "                     loc=2, prop=dict(size=8), frameon=True,\n",
      "                     )\n",
      "at.patch.set_boxstyle(\"round,pad=0.,rounding_size=0.2\")\n",
      "ax.add_artist(at)\n",
      "\n",
      "at2 = AnchoredText(\"Figure 1(b)\",\n",
      "                   loc=3, prop=dict(size=8), frameon=True,\n",
      "                   bbox_to_anchor=(0., 1.),\n",
      "                   bbox_transform=ax.transAxes\n",
      "                   )\n",
      "at2.patch.set_boxstyle(\"round,pad=0.,rounding_size=0.2\")\n",
      "ax.add_artist(at2)\n",
      "\n",
      "ada = AA.AnchoredDrawingArea(20, 20, 0, 0,\n",
      "                          loc=1, pad=0., frameon=False)\n",
      "p = Circle((10, 10), 10)\n",
      "ada.da.add_artist(p)\n",
      "ax.add_artist(ada)\n",
      "\n",
      "# draw an ellipse of width=0.1, height=0.15 in the data coordinate\n",
      "ae = AA.AnchoredEllipse(ax.transData, width=0.1, height=0.15, angle=0.,\n",
      "                     loc=3, pad=0.5, borderpad=0.4, frameon=True)\n",
      "\n",
      "ax.add_artist(ae)\n",
      "\n",
      "# draw a horizontal bar with length of 0.1 in Data coordinate\n",
      "# (ax.transData) with a label underneath.\n",
      "asb = AA.AnchoredSizeBar(ax.transData,\n",
      "                      0.1,\n",
      "                      r\"1$^{\\prime}$\",\n",
      "                      loc=8,\n",
      "                      pad=0.1, borderpad=0.5, sep=5,\n",
      "                      frameon=False)\n",
      "ax.add_artist(asb)\n"
     ],
     "language": "python",
     "metadata": {},
     "outputs": []
    },
    {
     "cell_type": "heading",
     "level": 2,
     "metadata": {},
     "source": [
      "Exercise"
     ]
    },
    {
     "cell_type": "markdown",
     "metadata": {},
     "source": [
      "Let's make a combined scatter and histogram plot. Take the data below and make a plot with three elements. The main plot should be a square axes with a scatter plot of the x and y data. To the right of this main axes should be vertical histogram of the y data, so that the y values are plotted along this axes' Y-axis. Above the main plot should be a horizontal histogram of the x data. (**Bonus points:** Put text boxes anchored to the panels' corners labelling them.)"
     ]
    },
    {
     "cell_type": "code",
     "collapsed": false,
     "input": [
      "x,y = np.random.randn(2, 300)\n",
      "\n",
      "# Start adding code here"
     ],
     "language": "python",
     "metadata": {},
     "outputs": []
    }
   ],
   "metadata": {}
  }
 ]
}
